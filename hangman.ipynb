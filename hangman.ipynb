{
 "cells": [
  {
   "cell_type": "code",
   "execution_count": null,
   "id": "79b4f186",
   "metadata": {},
   "outputs": [
    {
     "name": "stdout",
     "output_type": "stream",
     "text": [
      "_ _ _ _ _ _ \n"
     ]
    }
   ],
   "source": [
    "\n",
    "def hangman():\n",
    "    word = \"Secret\"\n",
    "\n",
    "    tries = 5\n",
    "    guesses = []\n",
    "    done = False\n",
    "\n",
    "    while not done:\n",
    "        for letter in word:\n",
    "            if letter.lower() in guesses:\n",
    "                print(letter, end = \" \")\n",
    "            else:\n",
    "                print(\"_\", end = \" \")\n",
    "        print(\"\")\n",
    "\n",
    "        guess = input(f\"You have {tries} tries left. Next Guess: \")\n",
    "        guesses.append(guess.lower())\n",
    "        if guess.lower() not in word.lower():\n",
    "            tries -= 1\n",
    "            if tries == 0:\n",
    "                break\n",
    "\n",
    "        done = True\n",
    "        for letter in word:\n",
    "            if letter.lower() not in guesses:\n",
    "                done = False\n",
    "\n",
    "    if done:\n",
    "        print(\"You found the word!\")\n",
    "    else:\n",
    "        print(f\"Game over! The word was {word} \")\n",
    "hangman()"
   ]
  },
  {
   "cell_type": "code",
   "execution_count": null,
   "id": "660fa44e",
   "metadata": {},
   "outputs": [],
   "source": []
  }
 ],
 "metadata": {
  "kernelspec": {
   "display_name": "Python 3 (ipykernel)",
   "language": "python",
   "name": "python3"
  },
  "language_info": {
   "codemirror_mode": {
    "name": "ipython",
    "version": 3
   },
   "file_extension": ".py",
   "mimetype": "text/x-python",
   "name": "python",
   "nbconvert_exporter": "python",
   "pygments_lexer": "ipython3",
   "version": "3.9.12"
  }
 },
 "nbformat": 4,
 "nbformat_minor": 5
}
