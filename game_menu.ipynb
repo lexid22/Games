{
 "cells": [
  {
   "cell_type": "code",
   "execution_count": 1,
   "id": "6fecf168",
   "metadata": {},
   "outputs": [],
   "source": [
    "from hangman import hangman\n",
    "from number_guess import number_guess\n",
    "\n",
    "def main():\n",
    "    while True:\n",
    "        \n",
    "        if menu() == True:\n",
    "            break\n",
    "\n",
    "\n",
    "def menu():\n",
    "    \n",
    "    \n",
    "\n",
    "    choice = input(\"\"\"\n",
    "                      A: Play Hangman\n",
    "                      B: Play Number guess\n",
    "                      C: Exit\n",
    "\n",
    "                      Please enter your choice: \"\"\")\n",
    "\n",
    "    if choice == \"A\" or choice ==\"a\":\n",
    "        hangman()\n",
    "    elif choice == \"B\" or choice ==\"b\":\n",
    "        number_guess()\n",
    "    elif choice==\"C\" or choice==\"c\":\n",
    "        return True\n",
    "    else:\n",
    "        print(\"You must only select either A or B\")\n",
    "        print(\"Please try again\")\n",
    "        menu()"
   ]
  },
  {
   "cell_type": "code",
   "execution_count": 2,
   "id": "224929c0",
   "metadata": {},
   "outputs": [
    {
     "name": "stdout",
     "output_type": "stream",
     "text": [
      "\n",
      "                      A: Play Hangman\n",
      "                      B: Play Number guess\n",
      "                      C: Exit\n",
      "\n",
      "                      Please enter your choice: a\n",
      "_ _ _ _ _ _ \n",
      "You have 5 tries left. Next Guess: g\n",
      "_ _ _ _ _ _ \n",
      "You have 4 tries left. Next Guess: s\n",
      "S _ _ _ _ _ \n",
      "You have 4 tries left. Next Guess: e\n",
      "S e _ _ e _ \n",
      "You have 4 tries left. Next Guess: c\n",
      "S e c _ e _ \n",
      "You have 4 tries left. Next Guess: t\n",
      "S e c _ e t \n",
      "You have 4 tries left. Next Guess: r\n",
      "You found the word!\n",
      "\n",
      "                      A: Play Hangman\n",
      "                      B: Play Number guess\n",
      "                      C: Exit\n",
      "\n",
      "                      Please enter your choice: c\n"
     ]
    }
   ],
   "source": [
    "main()"
   ]
  },
  {
   "cell_type": "code",
   "execution_count": null,
   "id": "71ef3c06",
   "metadata": {},
   "outputs": [],
   "source": []
  }
 ],
 "metadata": {
  "kernelspec": {
   "display_name": "Python 3 (ipykernel)",
   "language": "python",
   "name": "python3"
  },
  "language_info": {
   "codemirror_mode": {
    "name": "ipython",
    "version": 3
   },
   "file_extension": ".py",
   "mimetype": "text/x-python",
   "name": "python",
   "nbconvert_exporter": "python",
   "pygments_lexer": "ipython3",
   "version": "3.9.12"
  }
 },
 "nbformat": 4,
 "nbformat_minor": 5
}
